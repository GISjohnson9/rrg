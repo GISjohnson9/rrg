{
 "cells": [
  {
   "cell_type": "code",
   "execution_count": 1,
   "metadata": {},
   "outputs": [],
   "source": [
    "# Subprocess allows us to issue commands on the command line\n",
    "import subprocess\n",
    "# Module to download files with an URL\n",
    "import urllib.request\n",
    "# Zip utlity to extract files\n",
    "from zipfile import ZipFile"
   ]
  },
  {
   "cell_type": "code",
   "execution_count": 2,
   "metadata": {},
   "outputs": [],
   "source": [
    "############### Project properties ###############\n",
    "\n",
    "# Root GIS directory\n",
    "myRoot = \"d:\\\\MattsGIS\"\n",
    "myData = f\"{myRoot}\\\\data\"\n",
    "\n",
    "# Data source URL RRG \n",
    "gdbURL ='https://astoria.nyc3.digitaloceanspaces.com/geo409/rrg_build.gdb.zip'\n",
    "\n",
    "# Data source URL RKY\n",
    "# gdbURL = 'https://outragegis.com/d/smallScaleKentucky.gdb.zip'\n",
    "\n",
    "inputDatabase = \"rrg_build.gdb\"\n",
    "outputDatabase = \"rrg.gdb\"\n",
    "\n",
    "# Project name - created when you launched ArcGIS Pro\n",
    "project = \"rrg\"\n",
    "\n",
    "# Folder for downloaded assets. Will be wiped at end\n",
    "downloads = f'{myRoot}\\\\data\\\\downloads'\n",
    "\n",
    "arcpy.env.workspace = f\"{myData}\\\\{inputDatabase}\"\n",
    "arcpy.env.overwriteOutput = True"
   ]
  },
  {
   "cell_type": "code",
   "execution_count": 3,
   "metadata": {},
   "outputs": [
    {
     "name": "stdout",
     "output_type": "stream",
     "text": [
      "mkdir d:\\MattsGIS\\data\n",
      "\n",
      " Volume in drive D is WCDisk\n",
      " Volume Serial Number is EAED-D1D5\n",
      "\n",
      " Directory of d:\\MattsGIS\n",
      "\n",
      "\n"
     ]
    }
   ],
   "source": [
    "# Create download folder\n",
    "subprocess.run(f'mkdir {myData}', shell=True, stdout=subprocess.PIPE)\n",
    "subprocess.run(f'mkdir {downloads}', shell=True, stdout=subprocess.PIPE)\n",
    "print(f\"mkdir {myData}\\n\")\n",
    "    \n",
    "# Show contents of project directory\n",
    "completed = subprocess.run(f'dir {myRoot}\\\\{project}', shell=True, stdout=subprocess.PIPE)\n",
    "print(completed.stdout.decode('UTF-8'))"
   ]
  },
  {
   "cell_type": "code",
   "execution_count": 4,
   "metadata": {},
   "outputs": [
    {
     "name": "stdout",
     "output_type": "stream",
     "text": [
      "Downloading https://astoria.nyc3.digitaloceanspaces.com/geo409/rrg_build.gdb.zip\n",
      "move d:\\MattsGIS\\data\\downloads\\rrg_build.gdb d:\\MattsGIS\\data\\\n",
      "        1 dir(s) moved.\n",
      "\n",
      "\n",
      " Volume in drive D is WCDisk\n",
      " Volume Serial Number is EAED-D1D5\n",
      "\n",
      " Directory of d:\\MattsGIS\\data\n",
      "\n",
      "04/15/2020  11:40 AM    <DIR>          .\n",
      "04/15/2020  11:40 AM    <DIR>          ..\n",
      "04/15/2020  11:40 AM    <DIR>          downloads\n",
      "04/15/2020  11:40 AM    <DIR>          rrg_build.gdb\n",
      "               0 File(s)              0 bytes\n",
      "               4 Dir(s)   5,290,696,704 bytes free\n",
      "\n"
     ]
    }
   ],
   "source": [
    "# Download and extract assets\n",
    "print(f'Downloading {gdbURL}')\n",
    "with urllib.request.urlopen(gdbURL) as response: \n",
    "    with open(f'{downloads}\\\\{inputDatabase}.zip', 'wb') as outFile:\n",
    "        data = response.read()\n",
    "        outFile.write(data) \n",
    "with ZipFile(f'{downloads}\\\\{inputDatabase}.zip', 'r') as zip: \n",
    "    zip.extractall(f'{downloads}\\\\')\n",
    "\n",
    "command = f'move {downloads}\\\\{inputDatabase} {myRoot}\\\\data\\\\'\n",
    "print(command)\n",
    "completed = subprocess.run(command, shell=True, stdout=subprocess.PIPE)\n",
    "\n",
    "print(completed.stdout.decode('UTF-8'))\n",
    "command = f'del {downloads}\\\\{inputDatabase}.zip'\n",
    "completed = subprocess.run(command, shell=True, stdout=subprocess.PIPE)\n",
    "print(completed.stdout.decode('UTF-8'))\n",
    "\n",
    "command = f'dir {myData}'\n",
    "completed = subprocess.run(command, shell=True, stdout=subprocess.PIPE)\n",
    "print(completed.stdout.decode('UTF-8'))\n"
   ]
  },
  {
   "cell_type": "code",
   "execution_count": 5,
   "metadata": {},
   "outputs": [
    {
     "name": "stdout",
     "output_type": "stream",
     "text": [
      "List of feature classes: ['area_of_interest', 'ky_gnis_1808', 'streams_flowline', 'streams_water_areas', 'streams_waterbodies']\n",
      "List of rasters: ['DEM_2016_5ft', 'Landcover_2012_30m']\n"
     ]
    }
   ],
   "source": [
    "# get list of feature classes in our database\n",
    "featureList = arcpy.ListFeatureClasses()\n",
    "print (f\"List of feature classes: {featureList}\")\n",
    "\n",
    "# get list of feature classes in our database\n",
    "rasterList = arcpy.ListRasters()\n",
    "print (f\"List of rasters: {rasterList}\")"
   ]
  },
  {
   "cell_type": "code",
   "execution_count": 6,
   "metadata": {},
   "outputs": [
    {
     "name": "stdout",
     "output_type": "stream",
     "text": [
      "area_of_interest is a Polygon with CRS: NAD83_Kentucky_Single_Zone_ftUS\n",
      "___OBJECTID is a type of OID\n",
      "___Shape is a type of Geometry\n",
      "___FID_1 is a type of Double\n",
      "___Shape_Length is a type of Double\n",
      "___Shape_Area is a type of Double\n",
      "ky_gnis_1808 is a Point with CRS: NAD_1983_StatePlane_Kentucky_FIPS_1600_Feet\n",
      "___OBJECTID is a type of OID\n",
      "___Shape is a type of Geometry\n",
      "___FEATURE_ID is a type of Integer\n",
      "___FEATURE_NAME is a type of String\n",
      "___FEATURE_CLASS is a type of String\n",
      "___STATE_ALPHA is a type of String\n",
      "___STATE_NUMERIC is a type of Integer\n",
      "___COUNTY_NAME is a type of String\n",
      "___COUNTY_NUMERIC is a type of Integer\n",
      "___PRIMARY_LAT_DMS is a type of String\n",
      "___PRIM_LONG_DMS is a type of String\n",
      "___PRIMARY_LAT_DMS_D is a type of Double\n",
      "___PRIM_LONG_DMS_D is a type of Double\n",
      "___PRIM_LAT_DEC is a type of Double\n",
      "___PRIM_LONG_DEC is a type of Double\n",
      "___SOURCE_LAT_DMS is a type of String\n",
      "___SOURCE_LONG_DMS is a type of String\n",
      "___SOURCE_LAT_DMS_D is a type of Double\n",
      "___SOURCE_LONG_DMS_D is a type of Double\n",
      "___SOURCE_LAT_DEC is a type of Double\n",
      "___SOURCE_LONG_DEC is a type of Double\n",
      "___ELEV_IN_M is a type of Integer\n",
      "___ELEV_IN_FT is a type of Integer\n",
      "___MAP_NAME is a type of String\n",
      "___DATE_CREATED is a type of Date\n",
      "___DATE_EDITED is a type of Date\n",
      "streams_flowline is a Polyline with CRS: NAD83_Kentucky_Single_Zone_ftUS\n",
      "___OBJECTID is a type of OID\n",
      "___Shape is a type of Geometry\n",
      "___Permanent_Identifier is a type of String\n",
      "___FDate is a type of Date\n",
      "___Resolution is a type of Integer\n",
      "___GNIS_ID is a type of String\n",
      "___GNIS_Name is a type of String\n",
      "___LengthKM is a type of Double\n",
      "___ReachCode is a type of String\n",
      "___FlowDir is a type of Integer\n",
      "___WBArea_Permanent_Identifier is a type of String\n",
      "___FType is a type of Integer\n",
      "___FCode is a type of Integer\n",
      "___MainPath is a type of Integer\n",
      "___InNetwork is a type of SmallInteger\n",
      "___VisibilityFilter is a type of Integer\n",
      "___NHDPlusID is a type of Double\n",
      "___VPUID is a type of String\n",
      "___Enabled is a type of SmallInteger\n",
      "___Shape_Length is a type of Double\n",
      "streams_water_areas is a Polygon with CRS: NAD83_Kentucky_Single_Zone_ftUS\n",
      "___OBJECTID is a type of OID\n",
      "___Shape is a type of Geometry\n",
      "___Permanent_Identifier is a type of String\n",
      "___FDate is a type of Date\n",
      "___Resolution is a type of Integer\n",
      "___GNIS_ID is a type of String\n",
      "___GNIS_Name is a type of String\n",
      "___AreaSqKm is a type of Double\n",
      "___Elevation is a type of Double\n",
      "___FType is a type of Integer\n",
      "___FCode is a type of Integer\n",
      "___VisibilityFilter is a type of Integer\n",
      "___NHDPlusID is a type of Double\n",
      "___VPUID is a type of String\n",
      "___Shape_Length is a type of Double\n",
      "___Shape_Area is a type of Double\n",
      "streams_waterbodies is a Polygon with CRS: NAD83_Kentucky_Single_Zone_ftUS\n",
      "___OBJECTID is a type of OID\n",
      "___Shape is a type of Geometry\n",
      "___Permanent_Identifier is a type of String\n",
      "___FDate is a type of Date\n",
      "___Resolution is a type of Integer\n",
      "___GNIS_ID is a type of String\n",
      "___GNIS_Name is a type of String\n",
      "___AreaSqKm is a type of Double\n",
      "___Elevation is a type of Double\n",
      "___ReachCode is a type of String\n",
      "___FType is a type of Integer\n",
      "___FCode is a type of Integer\n",
      "___VisibilityFilter is a type of Integer\n",
      "___NHDPlusID is a type of Double\n",
      "___VPUID is a type of String\n",
      "___Shape_Length is a type of Double\n",
      "___Shape_Area is a type of Double\n"
     ]
    }
   ],
   "source": [
    "for feature in featureList:\n",
    "    # Create describe object\n",
    "    d = arcpy.Describe(feature)\n",
    "    print(f'{feature} is a {d.shapeType} with CRS: {d.spatialReference.name}')\n",
    "    fields = arcpy.ListFields(feature)\n",
    "    for field in fields:\n",
    "        print(f\"___{field.name} is a type of {field.type}\")"
   ]
  },
  {
   "cell_type": "code",
   "execution_count": 7,
   "metadata": {},
   "outputs": [
    {
     "name": "stdout",
     "output_type": "stream",
     "text": [
      "True\n",
      "DEM_2016_5ft is 14620 x 11236 pixels \n",
      "____with a 5.0 Foot_US resolution. Pixel type is F32.\n",
      "True\n",
      "Landcover_2012_30m is 743 x 571 pixels \n",
      "____with a 98.4 Foot_US resolution. Pixel type is U8.\n"
     ]
    }
   ],
   "source": [
    "rasterList = arcpy.ListRasters()\n",
    "for raster in rasterList:\n",
    "    print(arcpy.Exists(raster))\n",
    "    d = arcpy.Describe(raster)\n",
    "    linearUnit = d.SpatialReference.linearUnitName\n",
    "#     minimum = arcpy.GetRasterProperties_management(raster, \"MINIMUM\")\n",
    "#     maximum = arcpy.GetRasterProperties_management(raster, \"MAXIMUM\")\n",
    "#     mean = arcpy.GetRasterProperties_management(raster, \"MEAN\")\n",
    "    \n",
    "    print(f'{raster} is {d.width} x {d.height} pixels \\n____with a {round(d.meanCellWidth, 1)} {linearUnit} resolution. Pixel type is {d.pixelType}.')\n",
    "#     print(f'____min: {minimum} - mean: {mean} - max: {maximum}')"
   ]
  },
  {
   "cell_type": "code",
   "execution_count": 8,
   "metadata": {},
   "outputs": [
    {
     "name": "stdout",
     "output_type": "stream",
     "text": [
      "Creating workspace geodatabase...\n",
      "Created output database: d:\\MattsGIS\\data\\rrg.gdb\n",
      "Using d:\\MattsGIS\\data\\rrg_build.gdb for input data.\n"
     ]
    }
   ],
   "source": [
    "print(\"Creating workspace geodatabase...\")\n",
    "if arcpy.Exists(f\"{myData}\\\\{outputDatabase}\"):\n",
    "    print(f\"Output database exists: {myData}\\\\{outputDatabase}\")\n",
    "else:\n",
    "    arcpy.CreateFileGDB_management(myData, outputDatabase)\n",
    "    print(f\"Created output database: {myData}\\\\{outputDatabase}\")\n",
    "    \n",
    "print(f\"Using {arcpy.env.workspace} for input data.\")"
   ]
  },
  {
   "cell_type": "code",
   "execution_count": 9,
   "metadata": {},
   "outputs": [
    {
     "name": "stdout",
     "output_type": "stream",
     "text": [
      "Copying area_of_interest to d:\\MattsGIS\\data\\rrg.gdb\\area_of_interest\n",
      "Clipping ky_gnis_1808 with area_of_interest and outputting layer to d:\\MattsGIS\\data\\rrg.gdb\\ky_gnis_1808 ...\n",
      "Clipping streams_flowline with area_of_interest and outputting layer to d:\\MattsGIS\\data\\rrg.gdb\\streams_flowline ...\n",
      "Clipping streams_water_areas with area_of_interest and outputting layer to d:\\MattsGIS\\data\\rrg.gdb\\streams_water_areas ...\n",
      "Clipping streams_waterbodies with area_of_interest and outputting layer to d:\\MattsGIS\\data\\rrg.gdb\\streams_waterbodies ...\n"
     ]
    }
   ],
   "source": [
    "clipLayer = \"area_of_interest\"\n",
    "\n",
    "# Iterate over feature classes in input database\n",
    "for feature in featureList:\n",
    "    # Create output path for each feature class\n",
    "    output = f\"{myRoot}\\\\data\\\\{outputDatabase}\\\\{feature}\"\n",
    "    # Don't clip the AOI, just copy it\n",
    "    if feature == clipLayer:\n",
    "        arcpy.Copy_management(feature, output)\n",
    "        print(f\"Copying {feature} to {output}\")\n",
    "    else:\n",
    "        print(f\"Clipping {feature} with {clipLayer} and outputting layer to {output} ...\")\n",
    "        # Clip feature class to AOI\n",
    "        arcpy.Clip_analysis(feature, clipLayer, output)"
   ]
  },
  {
   "cell_type": "code",
   "execution_count": 10,
   "metadata": {},
   "outputs": [
    {
     "name": "stdout",
     "output_type": "stream",
     "text": [
      "Clipping DEM_2016_5ft with area_of_interest and outputting layer to d:\\MattsGIS\\data\\rrg.gdb\\DEM_2016_5ft ...\n",
      "Clipping Landcover_2012_30m with area_of_interest and outputting layer to d:\\MattsGIS\\data\\rrg.gdb\\Landcover_2012_30m ...\n"
     ]
    }
   ],
   "source": [
    "for raster in rasterList:\n",
    "    output = f\"{myRoot}\\\\data\\\\{outputDatabase}\\\\{raster}\"\n",
    "    # arcpy.Clip_management(in_raster, {rectangle}, out_raster, {in_template_dataset}, {nodata_value}, {clipping_geometry}, {maintain_clipping_extent})\n",
    "    print(f\"Clipping {raster} with {clipLayer} and outputting layer to {output} ...\")\n",
    "    arcpy.Clip_management(raster, \"#\", output, clipLayer, \"#\", \"ClippingGeometry\",\"#\")"
   ]
  },
  {
   "cell_type": "code",
   "execution_count": 11,
   "metadata": {},
   "outputs": [],
   "source": [
    "arcpy.env.workspace = f\"{myRoot}\\\\data\\\\{outputDatabase}\""
   ]
  },
  {
   "cell_type": "code",
   "execution_count": 12,
   "metadata": {},
   "outputs": [
    {
     "data": {
      "text/plain": [
       "<Result 'd:\\\\MattsGIS\\\\data\\\\rrg.gdb\\\\rrg_hillshade'>"
      ]
     },
     "execution_count": 12,
     "metadata": {},
     "output_type": "execute_result"
    }
   ],
   "source": [
    "# Hillshade tool syntax\n",
    "# arcpy.HillShade_3d(in_raster, out_raster, {azimuth}, {altitude}, {model_shadows}, {z_factor})\n",
    "arcpy.HillShade_3d('DEM_2016_5ft', 'rrg_hillshade')"
   ]
  },
  {
   "cell_type": "code",
   "execution_count": null,
   "metadata": {},
   "outputs": [],
   "source": []
  }
 ],
 "metadata": {
  "kernelspec": {
   "display_name": "ArcGISPro",
   "language": "Python",
   "name": "python3"
  },
  "language_info": {
   "file_extension": ".py",
   "name": "python",
   "version": "3"
  }
 },
 "nbformat": 4,
 "nbformat_minor": 2
}
